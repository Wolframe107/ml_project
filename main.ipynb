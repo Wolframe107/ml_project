{
 "cells": [
  {
   "cell_type": "code",
   "execution_count": 11,
   "metadata": {},
   "outputs": [],
   "source": [
    "#from sklearn import\n",
    "import pandas as pd\n",
    "import numpy as np\n",
    "import matplotlib.pyplot as plt\n",
    "\n",
    "data = pd.read_csv(\"heart_failure_dataset.csv\")"
   ]
  },
  {
   "cell_type": "code",
   "execution_count": 12,
   "metadata": {},
   "outputs": [
    {
     "name": "stdout",
     "output_type": "stream",
     "text": [
      "0.3210702341137124\n"
     ]
    }
   ],
   "source": [
    "print(np.sum(data[\"DEATH_EVENT\"] == 1) / len(data[\"DEATH_EVENT\"]))\n",
    "print(\"test\")\n",
    "print(\"lolol test 2\")"
   ]
  }
 ],
 "metadata": {
  "interpreter": {
   "hash": "99163b816f6f22f770b78560a5dbea2efaf8e0a6f952f8b19c5412a032aa650a"
  },
  "kernelspec": {
   "display_name": "Python 3.9.1 64-bit",
   "language": "python",
   "name": "python3"
  },
  "language_info": {
   "codemirror_mode": {
    "name": "ipython",
    "version": 3
   },
   "file_extension": ".py",
   "mimetype": "text/x-python",
   "name": "python",
   "nbconvert_exporter": "python",
   "pygments_lexer": "ipython3",
   "version": "3.9.1"
  },
  "orig_nbformat": 4
 },
 "nbformat": 4,
 "nbformat_minor": 2
}
